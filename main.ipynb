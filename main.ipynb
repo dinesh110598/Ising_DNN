{
  "nbformat": 4,
  "nbformat_minor": 0,
  "metadata": {
    "colab": {
      "name": "Ising_ML_1.4.ipynb",
      "provenance": [],
      "toc_visible": true,
      "authorship_tag": "ABX9TyNgkfx9E1I71RtXPBdkFj6u",
      "include_colab_link": true
    },
    "kernelspec": {
      "name": "python3",
      "display_name": "Python 3"
    },
    "accelerator": "GPU"
  },
  "cells": [
    {
      "cell_type": "markdown",
      "metadata": {
        "id": "view-in-github",
        "colab_type": "text"
      },
      "source": [
        "<a href=\"https://colab.research.google.com/github/dinesh110598/Ising_DNN/blob/main/main.ipynb\" target=\"_parent\"><img src=\"https://colab.research.google.com/assets/colab-badge.svg\" alt=\"Open In Colab\"/></a>"
      ]
    },
    {
      "cell_type": "markdown",
      "metadata": {
        "id": "RTZXFJovHLaI"
      },
      "source": [
        "# 2D Square FM Ising model simulation"
      ]
    },
    {
      "cell_type": "markdown",
      "metadata": {
        "id": "Esc3Gt_QHZAG"
      },
      "source": [
        "Importing required libraries:"
      ]
    },
    {
      "cell_type": "code",
      "metadata": {
        "id": "Zne1VTVNHEdJ"
      },
      "source": [
        "import numpy as np\n",
        "from tensorflow import keras as tfk\n",
        "import tensorflow as tf\n",
        "from numba import cuda,jit\n",
        "import cupy as cp\n",
        "import matplotlib.pyplot as plt"
      ],
      "execution_count": null,
      "outputs": []
    },
    {
      "cell_type": "code",
      "metadata": {
        "colab": {
          "base_uri": "https://localhost:8080/"
        },
        "id": "GxCqqbovYM9A",
        "outputId": "96276beb-83a4-43c2-94a9-c7336635eaaf"
      },
      "source": [
        "!nvidia-smi -L"
      ],
      "execution_count": null,
      "outputs": [
        {
          "output_type": "stream",
          "text": [
            "GPU 0: Tesla T4 (UUID: GPU-063e0c92-6b75-cfeb-fa99-45b7c9ca4b0d)\n"
          ],
          "name": "stdout"
        }
      ]
    },
    {
      "cell_type": "markdown",
      "metadata": {
        "id": "ekalDBlWH3qB"
      },
      "source": [
        "Uploading the script files containing CUDA kernels that help quickly simulate the Ising model:"
      ]
    },
    {
      "cell_type": "code",
      "metadata": {
        "colab": {
          "base_uri": "https://localhost:8080/"
        },
        "id": "b2AXeQczHu0v",
        "outputId": "a2c1e8bc-f2a9-468d-a3e0-4f39b6cedf56"
      },
      "source": [
        "!curl -o Ising_kernels.py https://raw.githubusercontent.com/dinesh110598/Ising_DNN/main/Ising_kernels.py"
      ],
      "execution_count": null,
      "outputs": [
        {
          "output_type": "stream",
          "text": [
            "  % Total    % Received % Xferd  Average Speed   Time    Time     Time  Current\n",
            "                                 Dload  Upload   Total   Spent    Left  Speed\n",
            "\r  0     0    0     0    0     0      0      0 --:--:-- --:--:-- --:--:--     0\r100  5472  100  5472    0     0  44129      0 --:--:-- --:--:-- --:--:-- 44129\n"
          ],
          "name": "stdout"
        }
      ]
    },
    {
      "cell_type": "code",
      "metadata": {
        "id": "aTwanzg-Ims5"
      },
      "source": [
        "from Ising_kernels import *"
      ],
      "execution_count": null,
      "outputs": []
    },
    {
      "cell_type": "markdown",
      "metadata": {
        "id": "4Z1dgciebwhz"
      },
      "source": [
        "## Training Data generation\n",
        "Let's write a function that generates training data for either ferromagnetic or paramagnetic phase using the imported kernels:"
      ]
    },
    {
      "cell_type": "code",
      "metadata": {
        "id": "OINljofHIylG"
      },
      "source": [
        "def generate_train_data (train_len, phase=\"FM\",\n",
        "                         lat_len=72, m=100):\n",
        "    shape = (lat_len, lat_len)\n",
        "    n_ens = train_len//m\n",
        "    spin = cp.ones ((train_len,)+shape, np.int8)\n",
        "    seed = cp.random.randint (-10000,10000, size=(train_len,)+shape,\n",
        "                                       dtype=np.int32)\n",
        "    J = cp.asarray (np.float32(-1.)) #This is for FM Ising model\n",
        "    tpb = (1,8,8)\n",
        "    bpg = (train_len, lat_len//8, lat_len//8)\n",
        "    if phase == \"FM\":\n",
        "        T = cp.random.uniform (0.5, 2.2, (n_ens,m),\n",
        "                                  np.float32)\n",
        "    elif phase == \"AFM\":\n",
        "        T = cp.random.uniform (2.3, 4.5, (n_ens,m),\n",
        "                                  np.float32)\n",
        "    for _ in range (1000):\n",
        "        update_black[bpg,tpb] (spin, seed, T, J)\n",
        "        update_white[bpg,tpb] (spin, seed, T, J)\n",
        "\n",
        "    spin = 0.5*cp.asnumpy (spin)\n",
        "    avgs = np.sign(np.mean (spin, axis=(1,2)))\n",
        "    avgs = avgs [...,np.newaxis]\n",
        "    avgs = avgs [...,np.newaxis]\n",
        "    spin = avgs*spin\n",
        "    return spin.astype(np.float32)"
      ],
      "execution_count": null,
      "outputs": []
    },
    {
      "cell_type": "markdown",
      "metadata": {
        "id": "SiV_KuNDfSrz"
      },
      "source": [
        "Generating training data of size 6000 for each phase:"
      ]
    },
    {
      "cell_type": "code",
      "metadata": {
        "id": "vLdarw5lfBM2"
      },
      "source": [
        "t_lattice = generate_train_data (6000, \"FM\")\n",
        "t_label = np.ones (6000, np.int32)\n",
        "t_lattice = np.concatenate ([t_lattice, generate_train_data (6000,\"AFM\")])\n",
        "t_label = np.concatenate ([t_label, np.zeros (6000, np.int32)])"
      ],
      "execution_count": null,
      "outputs": []
    },
    {
      "cell_type": "markdown",
      "metadata": {
        "id": "GMembfGccRor"
      },
      "source": [
        "Let's put everything inside a dataset and shuffle them:"
      ]
    },
    {
      "cell_type": "code",
      "metadata": {
        "id": "D1_TyhQ5ZUra"
      },
      "source": [
        "train_data = tf.data.Dataset.from_tensor_slices ((t_lattice, t_label))\n",
        "train_data = train_data.shuffle (12000)"
      ],
      "execution_count": null,
      "outputs": []
    },
    {
      "cell_type": "markdown",
      "metadata": {
        "id": "NU5OwKcRcdlk"
      },
      "source": [
        "Let's split this up into training and validation data:"
      ]
    },
    {
      "cell_type": "code",
      "metadata": {
        "id": "0Tz9rneGgBXF"
      },
      "source": [
        "val_data = train_data.take (2000)\n",
        "train_data = train_data.skip (2000)"
      ],
      "execution_count": null,
      "outputs": []
    },
    {
      "cell_type": "code",
      "metadata": {
        "id": "obSaeVH_2oCn"
      },
      "source": [
        "val_data = val_data.batch (1)\n",
        "train_data = train_data.batch (1)"
      ],
      "execution_count": null,
      "outputs": []
    },
    {
      "cell_type": "markdown",
      "metadata": {
        "id": "n0pIH96ryLTh"
      },
      "source": [
        "## Neural network initialization and training"
      ]
    },
    {
      "cell_type": "code",
      "metadata": {
        "id": "iZC0YmU-gLG8"
      },
      "source": [
        "model = tfk.Sequential ([\n",
        "            tfk.layers.Flatten (),\n",
        "            tfk.layers.Dense (100, activation=\"sigmoid\"),\n",
        "            tfk.layers.Dense (2, activation=\"softmax\")\n",
        "])"
      ],
      "execution_count": null,
      "outputs": []
    },
    {
      "cell_type": "markdown",
      "metadata": {
        "id": "KZvnw7qv0wDg"
      },
      "source": [
        "Note on model architecture: We did not use l2 regularizer as suggested in [this](http://dx.doi.org/10.1038/nphys4035) paper since that's needed only when training data is not sufficient. Let's compile and train the model:"
      ]
    },
    {
      "cell_type": "code",
      "metadata": {
        "id": "8GQQZmUA1cpW"
      },
      "source": [
        "model.compile (optimizer=\"adam\", \n",
        "               loss= \"sparse_categorical_crossentropy\",\n",
        "               metrics= ['accuracy'])"
      ],
      "execution_count": null,
      "outputs": []
    },
    {
      "cell_type": "code",
      "metadata": {
        "colab": {
          "base_uri": "https://localhost:8080/"
        },
        "id": "bB8TfngJ2A82",
        "outputId": "ab0bd256-a611-435e-da18-70095b09a78e"
      },
      "source": [
        "hist = model.fit (train_data, epochs=1,\n",
        "                  validation_data= val_data)"
      ],
      "execution_count": null,
      "outputs": [
        {
          "output_type": "stream",
          "text": [
            "10000/10000 [==============================] - 23s 2ms/step - loss: 0.0591 - accuracy: 0.9790 - val_loss: 0.0135 - val_accuracy: 0.9970\n"
          ],
          "name": "stdout"
        }
      ]
    },
    {
      "cell_type": "markdown",
      "metadata": {
        "id": "G9uJUlSoK5UR"
      },
      "source": [
        "We have achieved 99.7% accuracy on the validation data (which is effectively just test data since we ran 1 epoch). We'll save the model before proceeding:"
      ]
    },
    {
      "cell_type": "code",
      "metadata": {
        "colab": {
          "base_uri": "https://localhost:8080/"
        },
        "id": "ZllEY53DLzZ8",
        "outputId": "a174e4e7-a907-4c6e-a3c1-705f7b7d0a22"
      },
      "source": [
        "model.save (\"FM_Ising_NN\")"
      ],
      "execution_count": null,
      "outputs": [
        {
          "output_type": "stream",
          "text": [
            "INFO:tensorflow:Assets written to: FM_Ising_NN/assets\n"
          ],
          "name": "stdout"
        }
      ]
    },
    {
      "cell_type": "markdown",
      "metadata": {
        "id": "SnR2OfxALPZh"
      },
      "source": [
        "## Magnetization and Output layer data:"
      ]
    },
    {
      "cell_type": "markdown",
      "metadata": {
        "id": "xW-zKaDhizkK"
      },
      "source": [
        "We'll write a function that generates temperature wise data of FM Ising lattices to observe neural network output along with magnetization:"
      ]
    },
    {
      "cell_type": "code",
      "metadata": {
        "id": "3BLaNfizizAK"
      },
      "source": [
        "def temp_wise_data (low=0.5, high=4.5, step=0.1,\n",
        "                    lat_len=72, m=100):\n",
        "    train_len = math.ceil ((high-low)*m/step)\n",
        "    shape = (lat_len, lat_len)\n",
        "    n_ens = math.ceil ((high-low)/step)\n",
        "    spin = cp.ones ((train_len,)+shape, np.int8)\n",
        "    seed = cp.random.randint (-10000,10000, size=(train_len,)+shape,\n",
        "                                       dtype=np.int32)\n",
        "    J = cp.asarray (np.float32(-1.)) #This is for FM Ising model\n",
        "    tpb = (1,8,8)\n",
        "    bpg = (train_len, lat_len//8, lat_len//8)\n",
        "    T = cp.arange (low, high, step, np.float32)\n",
        "    T = cp.expand_dims (T, 1)\n",
        "    T = cp.broadcast_to (T, (n_ens, m))\n",
        "    for _ in range (1000):\n",
        "        update_black[bpg,tpb] (spin, seed, T, J)\n",
        "        update_white[bpg,tpb] (spin, seed, T, J)\n",
        "\n",
        "    spin = 0.5*cp.asnumpy (spin)\n",
        "    avgs = np.sign(np.mean (spin, axis=(1,2)))\n",
        "    avgs = avgs [...,np.newaxis]\n",
        "    avgs = avgs [...,np.newaxis]\n",
        "    spin = avgs*spin\n",
        "    return spin.astype(np.float32)"
      ],
      "execution_count": null,
      "outputs": []
    },
    {
      "cell_type": "code",
      "metadata": {
        "id": "NUcTj2egmK2R"
      },
      "source": [
        "t_lattice = temp_wise_data (1.0, 4.0, 0.1)"
      ],
      "execution_count": null,
      "outputs": []
    },
    {
      "cell_type": "markdown",
      "metadata": {
        "id": "OPd2TsoSSGh8"
      },
      "source": [
        "Plotting graphs for magnetization and neural network output:"
      ]
    },
    {
      "cell_type": "code",
      "metadata": {
        "id": "V5nwLLBKnTH4"
      },
      "source": [
        "mag = np.mean (2*t_lattice, axis= (1,2))\n",
        "mag_data = []\n",
        "neural_data = []\n",
        "pred = model.predict (t_lattice)\n",
        "datax = np.arange (1.0, 4.0 ,0.1)\n",
        "for i in range (len(datax)):\n",
        "    mag_data.append (mag[i*100: (i+1)*100].mean())\n",
        "    neural_data.append (pred[i*100:(i+1)*100, 1].mean())"
      ],
      "execution_count": null,
      "outputs": []
    },
    {
      "cell_type": "code",
      "metadata": {
        "id": "0zzIxkLUpe-5",
        "colab": {
          "base_uri": "https://localhost:8080/",
          "height": 279
        },
        "outputId": "c2800476-c9d0-410c-c002-20ea3609d66e"
      },
      "source": [
        "plt.plot (datax, mag_data, color='black')\n",
        "plt.grid()\n",
        "plt.xlabel (\"Temperature\")\n",
        "plt.ylabel (\"Magnetization\")\n",
        "plt.show()"
      ],
      "execution_count": null,
      "outputs": [
        {
          "output_type": "display_data",
          "data": {
            "image/png": "[encoded data removed]",
            "text/plain": [
              "<Figure size 432x288 with 1 Axes>"
            ]
          },
          "metadata": {
            "tags": [],
            "needs_background": "light"
          }
        }
      ]
    },
    {
      "cell_type": "code",
      "metadata": {
        "colab": {
          "base_uri": "https://localhost:8080/",
          "height": 279
        },
        "id": "Il6Rxni6Rorf",
        "outputId": "c5f537dd-e017-4e54-954f-6ad0d7764237"
      },
      "source": [
        "plt.plot (datax, neural_data, color='black')\n",
        "plt.grid()\n",
        "plt.xlabel (\"Temperature\")\n",
        "plt.ylabel (\"NN Output\")\n",
        "plt.show()"
      ],
      "execution_count": null,
      "outputs": [
        {
          "output_type": "display_data",
          "data": {
            "image/png": "[encoded data removed]",
            "text/plain": [
              "<Figure size 432x288 with 1 Axes>"
            ]
          },
          "metadata": {
            "tags": [],
            "needs_background": "light"
          }
        }
      ]
    },
    {
      "cell_type": "code",
      "metadata": {
        "id": "lTjEFZniU8d5"
      },
      "source": [
        ""
      ],
      "execution_count": null,
      "outputs": []
    },
    {
      "cell_type": "markdown",
      "metadata": {
        "id": "ONgbvzLYZlCy"
      },
      "source": [
        "# 2D Triangular FM Ising Model Simulation"
      ]
    },
    {
      "cell_type": "code",
      "metadata": {
        "id": "j8WrOke8Z7Fy"
      },
      "source": [
        "import numpy as np\n",
        "from tensorflow import keras as tfk\n",
        "import tensorflow as tf\n",
        "from numba import cuda,jit\n",
        "import cupy as cp\n",
        "import matplotlib.pyplot as plt"
      ],
      "execution_count": null,
      "outputs": []
    },
    {
      "cell_type": "code",
      "metadata": {
        "id": "zhsz7isxZy8Q"
      },
      "source": [
        "!curl -o Ising_kernels.py https://raw.githubusercontent.com/dinesh110598/Ising_DNN/main/Ising_kernels.py"
      ],
      "execution_count": null,
      "outputs": []
    },
    {
      "cell_type": "code",
      "metadata": {
        "id": "ytO9H19-aERd"
      },
      "source": [
        "from Ising_kernels import *"
      ],
      "execution_count": null,
      "outputs": []
    },
    {
      "cell_type": "markdown",
      "metadata": {
        "id": "8e1lAYAMaGOf"
      },
      "source": [
        "We aren't defining and training any neural network here, but rather using the network trained on the square FM Ising model to make predictions."
      ]
    },
    {
      "cell_type": "markdown",
      "metadata": {
        "id": "5pgxH13oafLr"
      },
      "source": [
        "## Magnetization and Output Layer data"
      ]
    },
    {
      "cell_type": "code",
      "metadata": {
        "id": "KvdpQPB7aaNS"
      },
      "source": [
        "def temp_wise_data (low=1.5, high=5.0, step=0.1,\n",
        "                    lat_len=72, m=100):\n",
        "    train_len = math.ceil ((high-low)*m/step)\n",
        "    shape = (lat_len, lat_len)\n",
        "    n_ens = math.ceil ((high-low)/step)\n",
        "    spin = cp.ones ((train_len,)+shape, np.int8)\n",
        "    seed = cp.random.randint (-10000,10000, size=(train_len,)+shape,\n",
        "                                       dtype=np.int32)\n",
        "    J = cp.asarray (np.float32(-1.)) #This is for FM Ising model\n",
        "    tpb = (1,8,8)\n",
        "    bpg = (train_len, lat_len//8, lat_len//8)\n",
        "    T = cp.arange (low, high, step, np.float32)\n",
        "    T = cp.expand_dims (T, 1)\n",
        "    T = cp.broadcast_to (T, (n_ens, m))\n",
        "    for _ in range (1000):\n",
        "        update_red[bpg,tpb] (spin, seed, T, J)\n",
        "        update_blue[bpg,tpb] (spin, seed, T, J)\n",
        "        update_green[bpg,tpb] (spin, seed, T, J)\n",
        "\n",
        "    spin = 0.5*cp.asnumpy (spin)\n",
        "    avgs = np.sign(np.mean (spin, axis=(1,2)))\n",
        "    avgs = avgs [...,np.newaxis]\n",
        "    avgs = avgs [...,np.newaxis]\n",
        "    spin = avgs*spin\n",
        "    return spin.astype(np.float32)"
      ],
      "execution_count": null,
      "outputs": []
    },
    {
      "cell_type": "code",
      "metadata": {
        "id": "gYJ1DbjHcA3r"
      },
      "source": [
        "t_lattice = temp_wise_data (2.0, 5.5, 0.1)"
      ],
      "execution_count": null,
      "outputs": []
    },
    {
      "cell_type": "code",
      "metadata": {
        "id": "emH81-cvcKxu"
      },
      "source": [
        "mag = np.mean (2*t_lattice, axis= (1,2))\n",
        "mag_data = []\n",
        "neural_data = []\n",
        "pred = model.predict (t_lattice)\n",
        "datax = np.arange (2.0, 5.5 ,0.1)\n",
        "for i in range (len(datax)):\n",
        "    mag_data.append (mag[i*100: (i+1)*100].mean())\n",
        "    neural_data.append (pred[i*100:(i+1)*100, 1].mean())"
      ],
      "execution_count": null,
      "outputs": []
    },
    {
      "cell_type": "code",
      "metadata": {
        "colab": {
          "base_uri": "https://localhost:8080/",
          "height": 279
        },
        "id": "03aJm051cUsI",
        "outputId": "7e6dcdd3-8ace-4097-b635-dda7848e88e2"
      },
      "source": [
        "plt.plot (datax, mag_data, color='black')\n",
        "plt.grid()\n",
        "plt.xlabel (\"Temperature\")\n",
        "plt.ylabel (\"Magnetization\")\n",
        "plt.show()"
      ],
      "execution_count": null,
      "outputs": [
        {
          "output_type": "display_data",
          "data": {
            "image/png": "[encoded data removed]",
            "text/plain": [
              "<Figure size 432x288 with 1 Axes>"
            ]
          },
          "metadata": {
            "tags": [],
            "needs_background": "light"
          }
        }
      ]
    },
    {
      "cell_type": "code",
      "metadata": {
        "colab": {
          "base_uri": "https://localhost:8080/",
          "height": 279
        },
        "id": "Ye4P1YXecbiJ",
        "outputId": "c883137f-5b99-485f-a9ea-e0ad4e244358"
      },
      "source": [
        "plt.plot (datax, neural_data, color='black')\n",
        "plt.grid()\n",
        "plt.xlabel (\"Temperature\")\n",
        "plt.ylabel (\"NN Output\")\n",
        "plt.show()"
      ],
      "execution_count": null,
      "outputs": [
        {
          "output_type": "display_data",
          "data": {
            "image/png": "[encoded data removed]",
            "text/plain": [
              "<Figure size 432x288 with 1 Axes>"
            ]
          },
          "metadata": {
            "tags": [],
            "needs_background": "light"
          }
        }
      ]
    },
    {
      "cell_type": "code",
      "metadata": {
        "id": "XCG9UFBtcc6p"
      },
      "source": [
        ""
      ],
      "execution_count": null,
      "outputs": []
    },
    {
      "cell_type": "markdown",
      "metadata": {
        "id": "0eD2R8joCdFL"
      },
      "source": [
        "# 2D Square AFM Ising model Simulation"
      ]
    },
    {
      "cell_type": "code",
      "metadata": {
        "id": "BJrx-ccLCtcV"
      },
      "source": [
        "import numpy as np\n",
        "from tensorflow import keras as tfk\n",
        "import tensorflow as tf\n",
        "from numba import cuda,jit\n",
        "import cupy as cp\n",
        "import matplotlib.pyplot as plt"
      ],
      "execution_count": null,
      "outputs": []
    },
    {
      "cell_type": "code",
      "metadata": {
        "colab": {
          "base_uri": "https://localhost:8080/"
        },
        "id": "d1w8R8zUCtcY",
        "outputId": "33058494-4e67-4501-8978-3386c7b3893c"
      },
      "source": [
        "!curl -o Ising_kernels.py https://raw.githubusercontent.com/dinesh110598/Ising_DNN/main/Ising_kernels.py"
      ],
      "execution_count": null,
      "outputs": [
        {
          "output_type": "stream",
          "text": [
            "  % Total    % Received % Xferd  Average Speed   Time    Time     Time  Current\n",
            "                                 Dload  Upload   Total   Spent    Left  Speed\n",
            "\r  0     0    0     0    0     0      0      0 --:--:-- --:--:-- --:--:--     0\r100  7160  100  7160    0     0  57741      0 --:--:-- --:--:-- --:--:-- 57741\n"
          ],
          "name": "stdout"
        }
      ]
    },
    {
      "cell_type": "code",
      "metadata": {
        "id": "hnSM_WF3Ctca"
      },
      "source": [
        "from Ising_kernels import *"
      ],
      "execution_count": null,
      "outputs": []
    },
    {
      "cell_type": "markdown",
      "metadata": {
        "id": "JIG4CFPdKDlc"
      },
      "source": [
        "Let's load the saved neural network model:"
      ]
    },
    {
      "cell_type": "code",
      "metadata": {
        "colab": {
          "base_uri": "https://localhost:8080/"
        },
        "id": "FfVvomgoKdcw",
        "outputId": "bed17bda-a071-485d-af13-58dac057c884"
      },
      "source": [
        "!apt-get install subversion"
      ],
      "execution_count": null,
      "outputs": [
        {
          "output_type": "stream",
          "text": [
            "Reading package lists... Done\n",
            "Building dependency tree       \n",
            "Reading state information... Done\n",
            "The following additional packages will be installed:\n",
            "  libapr1 libaprutil1 libserf-1-1 libsvn1\n",
            "Suggested packages:\n",
            "  db5.3-util libapache2-mod-svn subversion-tools\n",
            "The following NEW packages will be installed:\n",
            "  libapr1 libaprutil1 libserf-1-1 libsvn1 subversion\n",
            "0 upgraded, 5 newly installed, 0 to remove and 15 not upgraded.\n",
            "Need to get 2,237 kB of archives.\n",
            "After this operation, 9,910 kB of additional disk space will be used.\n",
            "Get:1 http://archive.ubuntu.com/ubuntu bionic/main amd64 libapr1 amd64 1.6.3-2 [90.9 kB]\n",
            "Get:2 http://archive.ubuntu.com/ubuntu bionic/main amd64 libaprutil1 amd64 1.6.1-2 [84.4 kB]\n",
            "Get:3 http://archive.ubuntu.com/ubuntu bionic/universe amd64 libserf-1-1 amd64 1.3.9-6 [44.4 kB]\n",
            "Get:4 http://archive.ubuntu.com/ubuntu bionic/universe amd64 libsvn1 amd64 1.9.7-4ubuntu1 [1,183 kB]\n",
            "Get:5 http://archive.ubuntu.com/ubuntu bionic/universe amd64 subversion amd64 1.9.7-4ubuntu1 [834 kB]\n",
            "Fetched 2,237 kB in 1s (2,727 kB/s)\n",
            "Selecting previously unselected package libapr1:amd64.\n",
            "(Reading database ... 145480 files and directories currently installed.)\n",
            "Preparing to unpack .../libapr1_1.6.3-2_amd64.deb ...\n",
            "Unpacking libapr1:amd64 (1.6.3-2) ...\n",
            "Selecting previously unselected package libaprutil1:amd64.\n",
            "Preparing to unpack .../libaprutil1_1.6.1-2_amd64.deb ...\n",
            "Unpacking libaprutil1:amd64 (1.6.1-2) ...\n",
            "Selecting previously unselected package libserf-1-1:amd64.\n",
            "Preparing to unpack .../libserf-1-1_1.3.9-6_amd64.deb ...\n",
            "Unpacking libserf-1-1:amd64 (1.3.9-6) ...\n",
            "Selecting previously unselected package libsvn1:amd64.\n",
            "Preparing to unpack .../libsvn1_1.9.7-4ubuntu1_amd64.deb ...\n",
            "Unpacking libsvn1:amd64 (1.9.7-4ubuntu1) ...\n",
            "Selecting previously unselected package subversion.\n",
            "Preparing to unpack .../subversion_1.9.7-4ubuntu1_amd64.deb ...\n",
            "Unpacking subversion (1.9.7-4ubuntu1) ...\n",
            "Setting up libapr1:amd64 (1.6.3-2) ...\n",
            "Setting up libaprutil1:amd64 (1.6.1-2) ...\n",
            "Setting up libserf-1-1:amd64 (1.3.9-6) ...\n",
            "Setting up libsvn1:amd64 (1.9.7-4ubuntu1) ...\n",
            "Setting up subversion (1.9.7-4ubuntu1) ...\n",
            "Processing triggers for libc-bin (2.27-3ubuntu1.2) ...\n",
            "/sbin/ldconfig.real: /usr/local/lib/python3.6/dist-packages/ideep4py/lib/libmkldnn.so.0 is not a symbolic link\n",
            "\n",
            "Processing triggers for man-db (2.8.3-2ubuntu0.1) ...\n"
          ],
          "name": "stdout"
        }
      ]
    },
    {
      "cell_type": "code",
      "metadata": {
        "colab": {
          "base_uri": "https://localhost:8080/"
        },
        "id": "X8OANca7KKvn",
        "outputId": "c75841b3-24a0-4e99-e771-bdc6e41224d8"
      },
      "source": [
        "!svn checkout https://github.com/dinesh110598/Ising_DNN/trunk/FM_Ising_NN"
      ],
      "execution_count": null,
      "outputs": [
        {
          "output_type": "stream",
          "text": [
            "A    FM_Ising_NN/saved_model.pb\n",
            "A    FM_Ising_NN/variables\n",
            "A    FM_Ising_NN/variables/variables.data-00000-of-00001\n",
            "A    FM_Ising_NN/variables/variables.index\n",
            "Checked out revision 12.\n"
          ],
          "name": "stdout"
        }
      ]
    },
    {
      "cell_type": "code",
      "metadata": {
        "id": "3XC2ql2dud-N"
      },
      "source": [
        "model = tfk.models.load_model (\"FM_Ising_NN\")"
      ],
      "execution_count": null,
      "outputs": []
    },
    {
      "cell_type": "markdown",
      "metadata": {
        "id": "zpGgta0gCyB7"
      },
      "source": [
        "## Magnetization and Output layer data"
      ]
    },
    {
      "cell_type": "markdown",
      "metadata": {
        "id": "B_BH7F5cC_fL"
      },
      "source": [
        "We'll use a similar data generating function but set lattice length as 144 so that we can look at magnetization and apply the neural network on even positions:"
      ]
    },
    {
      "cell_type": "code",
      "metadata": {
        "id": "NrxPJksBCiPb"
      },
      "source": [
        "def temp_wise_data (low=1.5, high=5.0, step=0.1,\n",
        "                    lat_len=144, m=100):\n",
        "    @cuda.jit\n",
        "    def write_spin (spin, even_spin):\n",
        "        z,x,y = cuda.grid (3)\n",
        "        if x%2==0 and y%2==0:\n",
        "            even_spin[z,x//2,y//2] = spin[z,x,y]\n",
        "\n",
        "    train_len = math.ceil ((high-low)*m/step)\n",
        "    shape = (lat_len, lat_len)\n",
        "    n_ens = math.ceil ((high-low)/step)\n",
        "    spin = cp.ones ((train_len,)+shape, np.int8)\n",
        "    seed = cp.random.randint (-10000,10000, size=(train_len,)+shape,\n",
        "                                       dtype=np.int32)\n",
        "    J = cp.asarray (np.float32(1.)) #This is for AFM Ising model\n",
        "    tpb = (1,8,8)\n",
        "    bpg = (train_len, lat_len//8, lat_len//8)\n",
        "    T = cp.arange (low, high, step, np.float32)\n",
        "    T = cp.expand_dims (T, 1)\n",
        "    T = cp.broadcast_to (T, (n_ens, m))\n",
        "    for _ in range (1000):\n",
        "        update_black[bpg,tpb] (spin, seed, T, J)\n",
        "        update_white[bpg,tpb] (spin, seed, T, J)\n",
        "\n",
        "    even_spin = cp.empty ((train_len, lat_len//2, lat_len//2))\n",
        "    write_spin[bpg,tpb] (spin, even_spin)\n",
        "    spin = 0.5*cp.asnumpy (even_spin)\n",
        "    avgs = np.sign(np.mean (spin, axis=(1,2)))\n",
        "    avgs = avgs [...,np.newaxis]\n",
        "    avgs = avgs [...,np.newaxis]\n",
        "    spin = avgs*spin\n",
        "    return spin.astype(np.float32)"
      ],
      "execution_count": null,
      "outputs": []
    },
    {
      "cell_type": "code",
      "metadata": {
        "id": "QSb_p_MKE3Gi"
      },
      "source": [
        "t_lattice = temp_wise_data (0.5, 4.0, 0.1)"
      ],
      "execution_count": null,
      "outputs": []
    },
    {
      "cell_type": "code",
      "metadata": {
        "colab": {
          "base_uri": "https://localhost:8080/"
        },
        "id": "kldvvZcfGpoP",
        "outputId": "d7c7a81d-0b37-4a42-c8ad-20d7edae9f6d"
      },
      "source": [
        "t_lattice.shape"
      ],
      "execution_count": null,
      "outputs": [
        {
          "output_type": "execute_result",
          "data": {
            "text/plain": [
              "(3500, 72, 72)"
            ]
          },
          "metadata": {
            "tags": []
          },
          "execution_count": 10
        }
      ]
    },
    {
      "cell_type": "code",
      "metadata": {
        "id": "jvaJc2nmE3Gn"
      },
      "source": [
        "mag = np.mean (2*t_lattice, axis= (1,2))\n",
        "mag_data = []\n",
        "neural_data = []\n",
        "pred = model.predict (t_lattice)\n",
        "datax = np.arange (0.5, 4.0 ,0.1)\n",
        "for i in range (len(datax)):\n",
        "    mag_data.append (mag[i*100: (i+1)*100].mean())\n",
        "    neural_data.append (pred[i*100:(i+1)*100, 1].mean())"
      ],
      "execution_count": null,
      "outputs": []
    },
    {
      "cell_type": "code",
      "metadata": {
        "colab": {
          "base_uri": "https://localhost:8080/",
          "height": 265
        },
        "id": "dhn89Batm3qd",
        "outputId": "29550d24-7074-48a4-f94f-b7a8d5f53b03"
      },
      "source": [
        "fig, ax = plt.subplots ()\n",
        "ax.plot (datax, mag_data, color='red', label='Magnetization')\n",
        "ax.plot (datax, neural_data, color='blue', label='NN Output')\n",
        "ax.legend()\n",
        "ax.grid ()\n",
        "plt.show()"
      ],
      "execution_count": null,
      "outputs": [
        {
          "output_type": "display_data",
          "data": {
            "image/png": "[encoded data removed]",
            "text/plain": [
              "<Figure size 432x288 with 1 Axes>"
            ]
          },
          "metadata": {
            "tags": [],
            "needs_background": "light"
          }
        }
      ]
    },
    {
      "cell_type": "code",
      "metadata": {
        "colab": {
          "base_uri": "https://localhost:8080/",
          "height": 279
        },
        "id": "bChhzmejE3Gs",
        "outputId": "511b1169-4eb8-49e6-dbf7-7539c1f901e6"
      },
      "source": [
        "plt.plot (datax, mag_data, color='black')\n",
        "plt.grid()\n",
        "plt.xlabel (\"Temperature\")\n",
        "plt.ylabel (\"Magnetization\")\n",
        "plt.show()"
      ],
      "execution_count": null,
      "outputs": [
        {
          "output_type": "display_data",
          "data": {
            "image/png": "[encoded data removed]",
            "text/plain": [
              "<Figure size 432x288 with 1 Axes>"
            ]
          },
          "metadata": {
            "tags": [],
            "needs_background": "light"
          }
        }
      ]
    },
    {
      "cell_type": "code",
      "metadata": {
        "colab": {
          "base_uri": "https://localhost:8080/",
          "height": 279
        },
        "id": "qpoA65a5E3Gv",
        "outputId": "91364cbb-1ecb-46f7-c76a-d63899980d48"
      },
      "source": [
        "plt.plot (datax, neural_data, color='black')\n",
        "plt.grid()\n",
        "plt.xlabel (\"Temperature\")\n",
        "plt.ylabel (\"NN Output\")\n",
        "plt.show()"
      ],
      "execution_count": null,
      "outputs": [
        {
          "output_type": "display_data",
          "data": {
            "image/png": "[encoded data removed]",
            "text/plain": [
              "<Figure size 432x288 with 1 Axes>"
            ]
          },
          "metadata": {
            "tags": [],
            "needs_background": "light"
          }
        }
      ]
    },
    {
      "cell_type": "markdown",
      "metadata": {
        "id": "3h_InLhTM5JQ"
      },
      "source": [
        "## ...with external field"
      ]
    },
    {
      "cell_type": "markdown",
      "metadata": {
        "id": "vbadGzhzpoTd"
      },
      "source": [
        "When there's an external field, the Hamiltonian for 2D Square Ising model becomes:\n",
        "$$ H = J\\displaystyle\\sum_{i,j=1}^L (S_{i,j} S_{i+1,j} + S_{i,j}S_{i,j+1}) - h\\displaystyle\\sum_{i,j=1}^L S_{i,j}$$ where we set $J=1$ for AFM model and put $h=0$ so far. We'll set h to values categorically above or below 4 and look at magnetization/neural network output for each of these cases."
      ]
    },
    {
      "cell_type": "markdown",
      "metadata": {
        "id": "I2CY0mDRvTyc"
      },
      "source": [
        "### h=3\n",
        "We'll set L=72 and look at the entire lattice (not even positions alone) since we expect to have non zero magnetizations at various temperatures:"
      ]
    },
    {
      "cell_type": "code",
      "metadata": {
        "id": "IcuSoHYULk5A"
      },
      "source": [
        "def temp_wise_data (low=0.5, high=4.0, step=0.1, h=3.0,\n",
        "                    lat_len=72, m=100):\n",
        "\n",
        "    train_len = math.ceil ((high-low)*m/step)\n",
        "    shape = (lat_len, lat_len)\n",
        "    n_ens = math.ceil ((high-low)/step)\n",
        "    spin = cp.ones ((train_len,)+shape, np.int8)\n",
        "    seed = cp.random.randint (-10000,10000, size=(train_len,)+shape,\n",
        "                                       dtype=np.int32)\n",
        "    J = cp.asarray (np.float32(1.)) #This is for AFM Ising model\n",
        "    h = cp.asarray (np.float32(h)) #Value of external field\n",
        "    tpb = (1,8,8)\n",
        "    bpg = (train_len, lat_len//8, lat_len//8)\n",
        "    T = cp.arange (low, high, step, np.float32)\n",
        "    T = cp.expand_dims (T, 1)\n",
        "    T = cp.broadcast_to (T, (n_ens, m))\n",
        "    for _ in range (1000):\n",
        "        update_black_ext[bpg,tpb] (spin, seed, T, J, h)\n",
        "        update_white_ext[bpg,tpb] (spin, seed, T, J, h)\n",
        "\n",
        "    spin = 0.5*cp.asnumpy (spin)\n",
        "    avgs = np.sign(np.mean (spin, axis=(1,2)))\n",
        "    avgs = avgs [...,np.newaxis]\n",
        "    avgs = avgs [...,np.newaxis]\n",
        "    spin = avgs*spin\n",
        "    return spin.astype(np.float32)"
      ],
      "execution_count": null,
      "outputs": []
    },
    {
      "cell_type": "code",
      "metadata": {
        "id": "J88FmeS8smeT"
      },
      "source": [
        "m = 800\n",
        "t_lattice = temp_wise_data (m= m)"
      ],
      "execution_count": null,
      "outputs": []
    },
    {
      "cell_type": "code",
      "metadata": {
        "id": "PUlczhwquDRh"
      },
      "source": [
        "mag = np.mean (2*t_lattice, axis= (1,2))\n",
        "mag_data = []\n",
        "neural_data = []\n",
        "pred = model.predict (t_lattice)\n",
        "datax = np.arange (0.5, 4.0 ,0.1)\n",
        "for i in range (len(datax)):\n",
        "    mag_data.append (mag[i*m: (i+1)*m].mean())\n",
        "    neural_data.append (pred[i*m:(i+1)*m, 1].mean())"
      ],
      "execution_count": null,
      "outputs": []
    },
    {
      "cell_type": "code",
      "metadata": {
        "colab": {
          "base_uri": "https://localhost:8080/",
          "height": 267
        },
        "id": "51EXxuXYpvN8",
        "outputId": "6a19be7b-9e97-4adb-ff2c-35dcb7925b09"
      },
      "source": [
        "fig, ax = plt.subplots ()\n",
        "ax.plot (datax, mag_data, color='red', label='Magnetization')\n",
        "ax.plot (datax, neural_data, color='blue', label='NN Output')\n",
        "ax.legend()\n",
        "ax.grid ()\n",
        "plt.show()"
      ],
      "execution_count": null,
      "outputs": [
        {
          "output_type": "display_data",
          "data": {
            "image/png": "[encoded data removed]",
            "text/plain": [
              "<Figure size 432x288 with 1 Axes>"
            ]
          },
          "metadata": {
            "tags": [],
            "needs_background": "light"
          }
        }
      ]
    },
    {
      "cell_type": "code",
      "metadata": {
        "colab": {
          "base_uri": "https://localhost:8080/",
          "height": 279
        },
        "id": "Nbxa7fIEurXj",
        "outputId": "340b4ec2-109c-4b03-d25d-59866ccbd55a"
      },
      "source": [
        "plt.plot (datax, mag_data, color='black')\n",
        "plt.grid()\n",
        "plt.xlabel (\"Temperature\")\n",
        "plt.ylabel (\"Magnetization\")\n",
        "plt.show()"
      ],
      "execution_count": null,
      "outputs": [
        {
          "output_type": "display_data",
          "data": {
            "image/png": "[encoded data removed]",
            "text/plain": [
              "<Figure size 432x288 with 1 Axes>"
            ]
          },
          "metadata": {
            "tags": [],
            "needs_background": "light"
          }
        }
      ]
    },
    {
      "cell_type": "code",
      "metadata": {
        "colab": {
          "base_uri": "https://localhost:8080/",
          "height": 280
        },
        "id": "2VDx-Xq8urXp",
        "outputId": "3dc945c6-a3f8-46b5-ca6f-85a2436de4f1"
      },
      "source": [
        "plt.plot (datax, neural_data, color='black')\n",
        "plt.grid()\n",
        "plt.xlabel (\"Temperature\")\n",
        "plt.ylabel (\"NN Output\")\n",
        "plt.show()"
      ],
      "execution_count": null,
      "outputs": [
        {
          "output_type": "display_data",
          "data": {
            "image/png": "[encoded data removed]",
            "text/plain": [
              "<Figure size 432x288 with 1 Axes>"
            ]
          },
          "metadata": {
            "tags": [],
            "needs_background": "light"
          }
        }
      ]
    },
    {
      "cell_type": "markdown",
      "metadata": {
        "id": "tXWGMHjrxh2w"
      },
      "source": [
        "The noise in the above graph seems to reduce, the more samples we average over for each temperature point. Moreover, there could be some intrinsic noise due to any imperfections in the neural network's training."
      ]
    },
    {
      "cell_type": "markdown",
      "metadata": {
        "id": "6ma3qroSvF2-"
      },
      "source": [
        "Now, we'll look at the even spins alone for a lattice of 2x larger length"
      ]
    },
    {
      "cell_type": "code",
      "metadata": {
        "id": "P9s9VsdXvSRR"
      },
      "source": [
        "def temp_wise_data (low=0.5, high=4.0, step=0.1, h=3.0,\n",
        "                    lat_len=144, m=100):\n",
        "    @cuda.jit\n",
        "    def write_spin (spin, even_spin):\n",
        "        z,x,y = cuda.grid (3)\n",
        "        if x%2==0 and y%2==0:\n",
        "            even_spin[z,x//2,y//2] = spin[z,x,y]\n",
        "\n",
        "    train_len = math.ceil ((high-low)*m/step)\n",
        "    shape = (lat_len, lat_len)\n",
        "    n_ens = math.ceil ((high-low)/step)\n",
        "    spin = cp.ones ((train_len,)+shape, np.int8)\n",
        "    seed = cp.random.randint (-10000,10000, size=(train_len,)+shape,\n",
        "                                       dtype=np.int32)\n",
        "    J = cp.asarray (np.float32(1.)) #This is for AFM Ising model\n",
        "    h = cp.asarray (np.float32(h)) #Value of external field\n",
        "    tpb = (1,8,8)\n",
        "    bpg = (train_len, lat_len//8, lat_len//8)\n",
        "    T = cp.arange (low, high, step, np.float32)\n",
        "    T = cp.expand_dims (T, 1)\n",
        "    T = cp.broadcast_to (T, (n_ens, m))\n",
        "    for _ in range (1000):\n",
        "        update_black_ext[bpg,tpb] (spin, seed, T, J, h)\n",
        "        update_white_ext[bpg,tpb] (spin, seed, T, J, h)\n",
        "\n",
        "    even_spin = cp.empty ((train_len, lat_len//2, lat_len//2))\n",
        "    write_spin[bpg,tpb] (spin, even_spin)\n",
        "    spin = 0.5*cp.asnumpy (even_spin)\n",
        "    avgs = np.sign(np.mean (spin, axis=(1,2)))\n",
        "    avgs = avgs [...,np.newaxis]\n",
        "    avgs = avgs [...,np.newaxis]\n",
        "    spin = avgs*spin\n",
        "    return spin.astype(np.float32)"
      ],
      "execution_count": null,
      "outputs": []
    },
    {
      "cell_type": "code",
      "metadata": {
        "id": "2WD5Q3hEvSRW"
      },
      "source": [
        "m=500\n",
        "t_lattice = temp_wise_data (m= m)"
      ],
      "execution_count": null,
      "outputs": []
    },
    {
      "cell_type": "code",
      "metadata": {
        "id": "zg6fZIsWvSRZ"
      },
      "source": [
        "mag = np.mean (2*t_lattice, axis= (1,2))\n",
        "mag_data = []\n",
        "neural_data = []\n",
        "pred = model.predict (t_lattice)\n",
        "datax = np.arange (0.5, 4.0 ,0.1)\n",
        "for i in range (len(datax)):\n",
        "    mag_data.append (mag[i*m: (i+1)*m].mean())\n",
        "    neural_data.append (pred[i*m:(i+1)*m, 1].mean())"
      ],
      "execution_count": null,
      "outputs": []
    },
    {
      "cell_type": "code",
      "metadata": {
        "colab": {
          "base_uri": "https://localhost:8080/",
          "height": 265
        },
        "id": "uHkqNN2QrKCd",
        "outputId": "f510f31c-2a6c-4915-edb3-eb26cbdc8bc6"
      },
      "source": [
        "fig, ax = plt.subplots ()\n",
        "ax.plot (datax, mag_data, color='red', label='Magnetization')\n",
        "ax.plot (datax, neural_data, color='blue', label='NN Output')\n",
        "ax.legend()\n",
        "ax.grid ()\n",
        "plt.show()"
      ],
      "execution_count": null,
      "outputs": [
        {
          "output_type": "display_data",
          "data": {
            "image/png": "[encoded data removed]",
            "text/plain": [
              "<Figure size 432x288 with 1 Axes>"
            ]
          },
          "metadata": {
            "tags": [],
            "needs_background": "light"
          }
        }
      ]
    },
    {
      "cell_type": "code",
      "metadata": {
        "colab": {
          "base_uri": "https://localhost:8080/",
          "height": 279
        },
        "id": "2CImTcZUvSRb",
        "outputId": "247228de-1154-4176-ae34-cbb83864cf73"
      },
      "source": [
        "plt.plot (datax, mag_data, color='black')\n",
        "plt.grid()\n",
        "plt.xlabel (\"Temperature\")\n",
        "plt.ylabel (\"Magnetization\")\n",
        "plt.show ()"
      ],
      "execution_count": null,
      "outputs": [
        {
          "output_type": "display_data",
          "data": {
            "image/png": "[encoded data removed]",
            "text/plain": [
              "<Figure size 432x288 with 1 Axes>"
            ]
          },
          "metadata": {
            "tags": [],
            "needs_background": "light"
          }
        }
      ]
    },
    {
      "cell_type": "code",
      "metadata": {
        "colab": {
          "base_uri": "https://localhost:8080/",
          "height": 279
        },
        "id": "qZ-HQFj1vSRf",
        "outputId": "906888ae-b8d5-4061-c3b6-164e5bd4e10f"
      },
      "source": [
        "plt.plot (datax, neural_data, color='black')\n",
        "plt.grid()\n",
        "plt.xlabel (\"Temperature\")\n",
        "plt.ylabel (\"NN Output\")\n",
        "plt.show()"
      ],
      "execution_count": null,
      "outputs": [
        {
          "output_type": "display_data",
          "data": {
            "image/png": "[encoded data removed]",
            "text/plain": [
              "<Figure size 432x288 with 1 Axes>"
            ]
          },
          "metadata": {
            "tags": [],
            "needs_background": "light"
          }
        }
      ]
    },
    {
      "cell_type": "markdown",
      "metadata": {
        "id": "63sITroWz3oT"
      },
      "source": [
        "### h=4.5\n",
        "We'll set L=72 and look at the entire lattice (not even positions alone) since we expect to have non zero magnetizations at various temperatures:"
      ]
    },
    {
      "cell_type": "code",
      "metadata": {
        "id": "wVADLcAAz3oX"
      },
      "source": [
        "def temp_wise_data (low=0.5, high=4.0, step=0.1, h=4.5,\n",
        "                    lat_len=72, m=100):\n",
        "\n",
        "    train_len = math.ceil ((high-low)*m/step)\n",
        "    shape = (lat_len, lat_len)\n",
        "    n_ens = math.ceil ((high-low)/step)\n",
        "    spin = cp.ones ((train_len,)+shape, np.int8)\n",
        "    seed = cp.random.randint (-10000,10000, size=(train_len,)+shape,\n",
        "                                       dtype=np.int32)\n",
        "    J = cp.asarray (np.float32(1.)) #This is for AFM Ising model\n",
        "    h = cp.asarray (np.float32(h)) #Value of external field\n",
        "    tpb = (1,8,8)\n",
        "    bpg = (train_len, lat_len//8, lat_len//8)\n",
        "    T = cp.arange (low, high, step, np.float32)\n",
        "    T = cp.expand_dims (T, 1)\n",
        "    T = cp.broadcast_to (T, (n_ens, m))\n",
        "    for _ in range (1000):\n",
        "        update_black_ext[bpg,tpb] (spin, seed, T, J, h)\n",
        "        update_white_ext[bpg,tpb] (spin, seed, T, J, h)\n",
        "\n",
        "    spin = 0.5*cp.asnumpy (spin)\n",
        "    avgs = np.sign(np.mean (spin, axis=(1,2)))\n",
        "    avgs = avgs [...,np.newaxis]\n",
        "    avgs = avgs [...,np.newaxis]\n",
        "    spin = avgs*spin\n",
        "    return spin.astype(np.float32)"
      ],
      "execution_count": null,
      "outputs": []
    },
    {
      "cell_type": "code",
      "metadata": {
        "id": "YkmoepjWz3ob"
      },
      "source": [
        "m = 1000\n",
        "t_lattice = temp_wise_data (m= m)"
      ],
      "execution_count": null,
      "outputs": []
    },
    {
      "cell_type": "code",
      "metadata": {
        "id": "6KmBiVYHz3oe"
      },
      "source": [
        "mag = np.mean (2*t_lattice, axis= (1,2))\n",
        "mag_data = []\n",
        "neural_data = []\n",
        "pred = model.predict (t_lattice)\n",
        "datax = np.arange (0.5, 4.0 ,0.1)\n",
        "for i in range (len(datax)):\n",
        "    mag_data.append (mag[i*m: (i+1)*m].mean())\n",
        "    neural_data.append (pred[i*m:(i+1)*m, 1].mean())"
      ],
      "execution_count": null,
      "outputs": []
    },
    {
      "cell_type": "code",
      "metadata": {
        "colab": {
          "base_uri": "https://localhost:8080/",
          "height": 265
        },
        "id": "7Pe7qJY1tjIn",
        "outputId": "34b93654-48a4-4957-fd7b-df18993ba092"
      },
      "source": [
        "fig, ax = plt.subplots ()\n",
        "ax.plot (datax, mag_data, color='red', label='Magnetization')\n",
        "ax.plot (datax, neural_data, color='blue', label='NN Output')\n",
        "ax.legend()\n",
        "ax.grid ()\n",
        "plt.show()"
      ],
      "execution_count": null,
      "outputs": [
        {
          "output_type": "display_data",
          "data": {
            "image/png": "[encoded data removed]",
            "text/plain": [
              "<Figure size 432x288 with 1 Axes>"
            ]
          },
          "metadata": {
            "tags": [],
            "needs_background": "light"
          }
        }
      ]
    },
    {
      "cell_type": "code",
      "metadata": {
        "colab": {
          "base_uri": "https://localhost:8080/",
          "height": 279
        },
        "id": "ruTGdRH0z3og",
        "outputId": "4e5aacbc-995a-4e9f-8723-c40ad54c3ac4"
      },
      "source": [
        "plt.plot (datax, mag_data, color='black')\n",
        "plt.grid()\n",
        "plt.xlabel (\"Temperature\")\n",
        "plt.ylabel (\"Magnetization\")\n",
        "plt.show()"
      ],
      "execution_count": null,
      "outputs": [
        {
          "output_type": "display_data",
          "data": {
            "image/png": "[encoded data removed]",
            "text/plain": [
              "<Figure size 432x288 with 1 Axes>"
            ]
          },
          "metadata": {
            "tags": [],
            "needs_background": "light"
          }
        }
      ]
    },
    {
      "cell_type": "code",
      "metadata": {
        "colab": {
          "base_uri": "https://localhost:8080/",
          "height": 283
        },
        "id": "oNcN0frxz3ok",
        "outputId": "190804be-de26-4a7b-9004-d6458cedbc6a"
      },
      "source": [
        "plt.plot (datax, neural_data, color='black')\n",
        "plt.grid()\n",
        "plt.xlabel (\"Temperature\")\n",
        "plt.ylabel (\"NN Output\")\n",
        "plt.ylim (0.7,1.0)\n",
        "plt.show()"
      ],
      "execution_count": null,
      "outputs": [
        {
          "output_type": "display_data",
          "data": {
            "image/png": "[encoded data removed]",
            "text/plain": [
              "<Figure size 432x288 with 1 Axes>"
            ]
          },
          "metadata": {
            "tags": [],
            "needs_background": "light"
          }
        }
      ]
    },
    {
      "cell_type": "markdown",
      "metadata": {
        "id": "jYDpjoX1z3om"
      },
      "source": [
        "The noise in the above graph seems to reduce, the more samples we average over for each temperature point. Moreover, there could be some intrinsic noise due to any imperfections in the neural network's training."
      ]
    },
    {
      "cell_type": "markdown",
      "metadata": {
        "id": "3ZXkBB3sz3oo"
      },
      "source": [
        "Now, we'll look at the even spins alone for a lattice of 2x larger length"
      ]
    },
    {
      "cell_type": "code",
      "metadata": {
        "id": "rGMrMjzAz3op"
      },
      "source": [
        "def temp_wise_data (low=0.5, high=4.0, step=0.1, h=4.5,\n",
        "                    lat_len=144, m=100):\n",
        "    @cuda.jit\n",
        "    def write_spin (spin, even_spin):\n",
        "        z,x,y = cuda.grid (3)\n",
        "        if x%2==0 and y%2==0:\n",
        "            even_spin[z,x//2,y//2] = spin[z,x,y]\n",
        "\n",
        "    train_len = math.ceil ((high-low)*m/step)\n",
        "    shape = (lat_len, lat_len)\n",
        "    n_ens = math.ceil ((high-low)/step)\n",
        "    spin = cp.ones ((train_len,)+shape, np.int8)\n",
        "    seed = cp.random.randint (-10000,10000, size=(train_len,)+shape,\n",
        "                                       dtype=np.int32)\n",
        "    J = cp.asarray (np.float32(1.)) #This is for AFM Ising model\n",
        "    h = cp.asarray (np.float32(h)) #Value of external field\n",
        "    tpb = (1,8,8)\n",
        "    bpg = (train_len, lat_len//8, lat_len//8)\n",
        "    T = cp.arange (low, high, step, np.float32)\n",
        "    T = cp.expand_dims (T, 1)\n",
        "    T = cp.broadcast_to (T, (n_ens, m))\n",
        "    for _ in range (1000):\n",
        "        update_black_ext[bpg,tpb] (spin, seed, T, J, h)\n",
        "        update_white_ext[bpg,tpb] (spin, seed, T, J, h)\n",
        "\n",
        "    even_spin = cp.empty ((train_len, lat_len//2, lat_len//2))\n",
        "    write_spin[bpg,tpb] (spin, even_spin)\n",
        "    spin = 0.5*cp.asnumpy (even_spin)\n",
        "    avgs = np.sign(np.mean (spin, axis=(1,2)))\n",
        "    avgs = avgs [...,np.newaxis]\n",
        "    avgs = avgs [...,np.newaxis]\n",
        "    spin = avgs*spin\n",
        "    return spin.astype(np.float32)"
      ],
      "execution_count": null,
      "outputs": []
    },
    {
      "cell_type": "code",
      "metadata": {
        "id": "ihIkLM3Mz3oq"
      },
      "source": [
        "m=800\n",
        "t_lattice = temp_wise_data (m= m)"
      ],
      "execution_count": null,
      "outputs": []
    },
    {
      "cell_type": "code",
      "metadata": {
        "id": "a7Mdg1zjz3oq"
      },
      "source": [
        "mag = np.mean (2*t_lattice, axis= (1,2))\n",
        "mag_data = []\n",
        "neural_data = []\n",
        "pred = model.predict (t_lattice)\n",
        "datax = np.arange (0.5, 4.0 ,0.1)\n",
        "for i in range (len(datax)):\n",
        "    mag_data.append (mag[i*m: (i+1)*m].mean())\n",
        "    neural_data.append (pred[i*m:(i+1)*m, 1].mean())"
      ],
      "execution_count": null,
      "outputs": []
    },
    {
      "cell_type": "code",
      "metadata": {
        "colab": {
          "base_uri": "https://localhost:8080/",
          "height": 265
        },
        "id": "CsR1w9Qbu07m",
        "outputId": "fbf2b5a6-8c33-4f6d-c648-78e6617c439c"
      },
      "source": [
        "fig, ax = plt.subplots ()\n",
        "ax.plot (datax, mag_data, color='red', label='Magnetization')\n",
        "ax.plot (datax, neural_data, color='blue', label='NN Output')\n",
        "ax.legend()\n",
        "ax.grid ()\n",
        "plt.show()"
      ],
      "execution_count": null,
      "outputs": [
        {
          "output_type": "display_data",
          "data": {
            "image/png": "[encoded data removed]",
            "text/plain": [
              "<Figure size 432x288 with 1 Axes>"
            ]
          },
          "metadata": {
            "tags": [],
            "needs_background": "light"
          }
        }
      ]
    },
    {
      "cell_type": "code",
      "metadata": {
        "id": "xuXVTWP5u4wF"
      },
      "source": [
        "from google.colab import output\n",
        "output.eval_js('new Audio(\"https://upload.wikimedia.org/wikipedia/commons/0/05/Beep-09.ogg\").play()')"
      ],
      "execution_count": null,
      "outputs": []
    },
    {
      "cell_type": "code",
      "metadata": {
        "colab": {
          "base_uri": "https://localhost:8080/",
          "height": 279
        },
        "id": "U-BAsdI2z3or",
        "outputId": "2e4553bf-eaf9-4bc2-9447-ab64f95dc516"
      },
      "source": [
        "plt.plot (datax, mag_data, color='black')\n",
        "plt.grid()\n",
        "plt.xlabel (\"Temperature\")\n",
        "plt.ylabel (\"Magnetization\")\n",
        "plt.show()"
      ],
      "execution_count": null,
      "outputs": [
        {
          "output_type": "display_data",
          "data": {
            "image/png": "[encoded data removed]",
            "text/plain": [
              "<Figure size 432x288 with 1 Axes>"
            ]
          },
          "metadata": {
            "tags": [],
            "needs_background": "light"
          }
        }
      ]
    },
    {
      "cell_type": "code",
      "metadata": {
        "colab": {
          "base_uri": "https://localhost:8080/",
          "height": 279
        },
        "id": "DQ8xklMJz3ot",
        "outputId": "499338f2-123e-4c57-c0ec-ff166995ca1e"
      },
      "source": [
        "plt.plot (datax, neural_data, color='black')\n",
        "plt.grid()\n",
        "plt.xlabel (\"Temperature\")\n",
        "plt.ylabel (\"NN Output\")\n",
        "plt.show()"
      ],
      "execution_count": null,
      "outputs": [
        {
          "output_type": "display_data",
          "data": {
            "image/png": "[encoded data removed]",
            "text/plain": [
              "<Figure size 432x288 with 1 Axes>"
            ]
          },
          "metadata": {
            "tags": [],
            "needs_background": "light"
          }
        }
      ]
    },
    {
      "cell_type": "code",
      "metadata": {
        "id": "rgqHmtDOuW83"
      },
      "source": [
        ""
      ],
      "execution_count": null,
      "outputs": []
    }
  ]
}